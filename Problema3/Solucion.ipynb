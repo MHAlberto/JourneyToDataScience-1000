{
 "cells": [
  {
   "cell_type": "markdown",
   "id": "c55c218b",
   "metadata": {},
   "source": [
    "### Problema: Análisis de clima\n",
    "\n",
    "**Tareas:**\n",
    "\n",
    "1. Leer el archivo clima.csv con Pandas.\n",
    "\n",
    "2. Calcular la temperatura promedio por ciudad.\n",
    "\n",
    "3. Encontrar el día más caluroso en todas las ciudades.\n",
    "\n",
    "4. Mostrar qué ciudad tuvo la temperatura más baja registrada y en qué día ocurrió.\n",
    "\n",
    "5. Crear una nueva columna llamada Diferencia que muestre, para cada fila, la diferencia entre la temperatura de ese día y el promedio de su ciudad."
   ]
  },
  {
   "cell_type": "code",
   "execution_count": null,
   "id": "b90522fb",
   "metadata": {},
   "outputs": [
    {
     "data": {
      "text/html": [
       "<div>\n",
       "<style scoped>\n",
       "    .dataframe tbody tr th:only-of-type {\n",
       "        vertical-align: middle;\n",
       "    }\n",
       "\n",
       "    .dataframe tbody tr th {\n",
       "        vertical-align: top;\n",
       "    }\n",
       "\n",
       "    .dataframe thead th {\n",
       "        text-align: right;\n",
       "    }\n",
       "</style>\n",
       "<table border=\"1\" class=\"dataframe\">\n",
       "  <thead>\n",
       "    <tr style=\"text-align: right;\">\n",
       "      <th></th>\n",
       "      <th>Ciudad</th>\n",
       "      <th>Día</th>\n",
       "      <th>Temperatura</th>\n",
       "    </tr>\n",
       "  </thead>\n",
       "  <tbody>\n",
       "    <tr>\n",
       "      <th>0</th>\n",
       "      <td>CDMX</td>\n",
       "      <td>2025-08-01</td>\n",
       "      <td>25</td>\n",
       "    </tr>\n",
       "    <tr>\n",
       "      <th>1</th>\n",
       "      <td>CDMX</td>\n",
       "      <td>2025-08-02</td>\n",
       "      <td>27</td>\n",
       "    </tr>\n",
       "    <tr>\n",
       "      <th>2</th>\n",
       "      <td>CDMX</td>\n",
       "      <td>2025-08-03</td>\n",
       "      <td>22</td>\n",
       "    </tr>\n",
       "    <tr>\n",
       "      <th>3</th>\n",
       "      <td>CDMX</td>\n",
       "      <td>2025-08-04</td>\n",
       "      <td>24</td>\n",
       "    </tr>\n",
       "    <tr>\n",
       "      <th>4</th>\n",
       "      <td>CDMX</td>\n",
       "      <td>2025-08-05</td>\n",
       "      <td>26</td>\n",
       "    </tr>\n",
       "    <tr>\n",
       "      <th>5</th>\n",
       "      <td>CDMX</td>\n",
       "      <td>2025-08-06</td>\n",
       "      <td>23</td>\n",
       "    </tr>\n",
       "    <tr>\n",
       "      <th>6</th>\n",
       "      <td>CDMX</td>\n",
       "      <td>2025-08-07</td>\n",
       "      <td>28</td>\n",
       "    </tr>\n",
       "    <tr>\n",
       "      <th>7</th>\n",
       "      <td>CDMX</td>\n",
       "      <td>2025-08-08</td>\n",
       "      <td>27</td>\n",
       "    </tr>\n",
       "    <tr>\n",
       "      <th>8</th>\n",
       "      <td>CDMX</td>\n",
       "      <td>2025-08-09</td>\n",
       "      <td>25</td>\n",
       "    </tr>\n",
       "    <tr>\n",
       "      <th>9</th>\n",
       "      <td>CDMX</td>\n",
       "      <td>2025-08-10</td>\n",
       "      <td>26</td>\n",
       "    </tr>\n",
       "  </tbody>\n",
       "</table>\n",
       "</div>"
      ],
      "text/plain": [
       "  Ciudad         Día  Temperatura\n",
       "0   CDMX  2025-08-01           25\n",
       "1   CDMX  2025-08-02           27\n",
       "2   CDMX  2025-08-03           22\n",
       "3   CDMX  2025-08-04           24\n",
       "4   CDMX  2025-08-05           26\n",
       "5   CDMX  2025-08-06           23\n",
       "6   CDMX  2025-08-07           28\n",
       "7   CDMX  2025-08-08           27\n",
       "8   CDMX  2025-08-09           25\n",
       "9   CDMX  2025-08-10           26"
      ]
     },
     "execution_count": 2,
     "metadata": {},
     "output_type": "execute_result"
    }
   ],
   "source": [
    "#1. Leer el archivo clima.csv con Pandas.\n",
    "import pandas as pd\n",
    "\n",
    "df = pd.read_csv('clima.csv')\n",
    "df.head(10)"
   ]
  },
  {
   "cell_type": "code",
   "execution_count": null,
   "id": "920e003c",
   "metadata": {},
   "outputs": [
    {
     "name": "stdout",
     "output_type": "stream",
     "text": [
      "La temperatura media de CDMX es 25.433333333333334, de Monterrey es 37.13333333333333 y de Guadalajara es 30.1\n"
     ]
    }
   ],
   "source": [
    "#2. Calcular la temperatura promedio por ciudad.\n",
    "\n",
    "temperatura_media_de_cdmx = df[df['Ciudad'] == 'CDMX']['Temperatura'].mean()\n",
    "temperatura_media_de_monterrey = df[df['Ciudad'] == 'Monterrey']['Temperatura'].mean()\n",
    "temperatura_media_de_guadalajara = df[df['Ciudad'] == 'Guadalajara']['Temperatura'].mean()\n",
    "\n",
    "print(f'La temperatura media de CDMX es {temperatura_media_de_cdmx}, de Monterrey es {temperatura_media_de_monterrey} y de Guadalajara es {temperatura_media_de_guadalajara}')"
   ]
  },
  {
   "cell_type": "code",
   "execution_count": null,
   "id": "3f0bea95",
   "metadata": {},
   "outputs": [
    {
     "name": "stdout",
     "output_type": "stream",
     "text": [
      "Los días más calurosos de CDMX fueron el día 2025-08-07, de Monterrey el día 2025-08-07 y de Guadalajara el día 2025-08-07\n"
     ]
    }
   ],
   "source": [
    "#3. Encontrar el día más caluroso en todas las ciudades.\n",
    "dia_mas_caluroso_cdmx = df['Día'][int(df[df['Ciudad'] == 'CDMX']['Temperatura'].idxmax())]\n",
    "dia_mas_caluroso_monterrey = df['Día'][int(df[df['Ciudad'] == 'Monterrey']['Temperatura'].idxmax())]\n",
    "dia_mas_caluroso_guadalajara = df['Día'][int(df[df['Ciudad'] == 'Guadalajara']['Temperatura'].idxmax())]\n",
    "print(f'Los días más calurosos de CDMX fueron el día {dia_mas_caluroso_cdmx}, de Monterrey el día {dia_mas_caluroso_monterrey} y de Guadalajara el día {dia_mas_caluroso_guadalajara}')"
   ]
  },
  {
   "cell_type": "code",
   "execution_count": null,
   "id": "01ac9ee0",
   "metadata": {},
   "outputs": [
    {
     "data": {
      "text/plain": [
       "'2025-08-03'"
      ]
     },
     "execution_count": 53,
     "metadata": {},
     "output_type": "execute_result"
    }
   ],
   "source": [
    "#4. Mostrar qué ciudad tuvo la temperatura más baja registrada y en qué día ocurrió.\n",
    "\n",
    "df['Día'][df['Temperatura'].idxmin()]"
   ]
  },
  {
   "cell_type": "code",
   "execution_count": 58,
   "id": "d73877d7",
   "metadata": {},
   "outputs": [
    {
     "data": {
      "text/html": [
       "<div>\n",
       "<style scoped>\n",
       "    .dataframe tbody tr th:only-of-type {\n",
       "        vertical-align: middle;\n",
       "    }\n",
       "\n",
       "    .dataframe tbody tr th {\n",
       "        vertical-align: top;\n",
       "    }\n",
       "\n",
       "    .dataframe thead th {\n",
       "        text-align: right;\n",
       "    }\n",
       "</style>\n",
       "<table border=\"1\" class=\"dataframe\">\n",
       "  <thead>\n",
       "    <tr style=\"text-align: right;\">\n",
       "      <th></th>\n",
       "      <th>Ciudad</th>\n",
       "      <th>Día</th>\n",
       "      <th>Temperatura</th>\n",
       "      <th>Diferencia</th>\n",
       "    </tr>\n",
       "  </thead>\n",
       "  <tbody>\n",
       "    <tr>\n",
       "      <th>0</th>\n",
       "      <td>CDMX</td>\n",
       "      <td>2025-08-01</td>\n",
       "      <td>25</td>\n",
       "      <td>-0.433333</td>\n",
       "    </tr>\n",
       "    <tr>\n",
       "      <th>1</th>\n",
       "      <td>CDMX</td>\n",
       "      <td>2025-08-02</td>\n",
       "      <td>27</td>\n",
       "      <td>1.566667</td>\n",
       "    </tr>\n",
       "    <tr>\n",
       "      <th>2</th>\n",
       "      <td>CDMX</td>\n",
       "      <td>2025-08-03</td>\n",
       "      <td>22</td>\n",
       "      <td>-3.433333</td>\n",
       "    </tr>\n",
       "    <tr>\n",
       "      <th>3</th>\n",
       "      <td>CDMX</td>\n",
       "      <td>2025-08-04</td>\n",
       "      <td>24</td>\n",
       "      <td>-1.433333</td>\n",
       "    </tr>\n",
       "    <tr>\n",
       "      <th>4</th>\n",
       "      <td>CDMX</td>\n",
       "      <td>2025-08-05</td>\n",
       "      <td>26</td>\n",
       "      <td>0.566667</td>\n",
       "    </tr>\n",
       "    <tr>\n",
       "      <th>5</th>\n",
       "      <td>CDMX</td>\n",
       "      <td>2025-08-06</td>\n",
       "      <td>23</td>\n",
       "      <td>-2.433333</td>\n",
       "    </tr>\n",
       "    <tr>\n",
       "      <th>6</th>\n",
       "      <td>CDMX</td>\n",
       "      <td>2025-08-07</td>\n",
       "      <td>28</td>\n",
       "      <td>2.566667</td>\n",
       "    </tr>\n",
       "    <tr>\n",
       "      <th>7</th>\n",
       "      <td>CDMX</td>\n",
       "      <td>2025-08-08</td>\n",
       "      <td>27</td>\n",
       "      <td>1.566667</td>\n",
       "    </tr>\n",
       "    <tr>\n",
       "      <th>8</th>\n",
       "      <td>CDMX</td>\n",
       "      <td>2025-08-09</td>\n",
       "      <td>25</td>\n",
       "      <td>-0.433333</td>\n",
       "    </tr>\n",
       "    <tr>\n",
       "      <th>9</th>\n",
       "      <td>CDMX</td>\n",
       "      <td>2025-08-10</td>\n",
       "      <td>26</td>\n",
       "      <td>0.566667</td>\n",
       "    </tr>\n",
       "  </tbody>\n",
       "</table>\n",
       "</div>"
      ],
      "text/plain": [
       "  Ciudad         Día  Temperatura  Diferencia\n",
       "0   CDMX  2025-08-01           25   -0.433333\n",
       "1   CDMX  2025-08-02           27    1.566667\n",
       "2   CDMX  2025-08-03           22   -3.433333\n",
       "3   CDMX  2025-08-04           24   -1.433333\n",
       "4   CDMX  2025-08-05           26    0.566667\n",
       "5   CDMX  2025-08-06           23   -2.433333\n",
       "6   CDMX  2025-08-07           28    2.566667\n",
       "7   CDMX  2025-08-08           27    1.566667\n",
       "8   CDMX  2025-08-09           25   -0.433333\n",
       "9   CDMX  2025-08-10           26    0.566667"
      ]
     },
     "execution_count": 58,
     "metadata": {},
     "output_type": "execute_result"
    }
   ],
   "source": [
    "#5. Crear una nueva columna llamada Diferencia que muestre, para cada fila, la diferencia entre la temperatura de ese día y el promedio de su ciudad.\n",
    "\n",
    "df['Diferencia'] = df.apply(lambda row: row['Temperatura'] - (temperatura_media_de_cdmx if row['Ciudad'] == 'CDMX' else temperatura_media_de_monterrey if row['Ciudad'] == 'Monterrey' else temperatura_media_de_guadalajara), axis=1)\n",
    "\n",
    "df.head(10)"
   ]
  },
  {
   "cell_type": "code",
   "execution_count": 59,
   "id": "a4d2949d",
   "metadata": {},
   "outputs": [],
   "source": [
    "#6. Extra, guardar el DataFrame en un archivo csv\n",
    "\n",
    "df.to_csv('clima_modificado.csv', index=False)"
   ]
  }
 ],
 "metadata": {
  "kernelspec": {
   "display_name": "Python 3",
   "language": "python",
   "name": "python3"
  },
  "language_info": {
   "codemirror_mode": {
    "name": "ipython",
    "version": 3
   },
   "file_extension": ".py",
   "mimetype": "text/x-python",
   "name": "python",
   "nbconvert_exporter": "python",
   "pygments_lexer": "ipython3",
   "version": "3.12.10"
  }
 },
 "nbformat": 4,
 "nbformat_minor": 5
}
